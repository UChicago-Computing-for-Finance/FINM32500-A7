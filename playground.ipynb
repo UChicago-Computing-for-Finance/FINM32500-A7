{
 "cells": [
  {
   "cell_type": "markdown",
   "id": "30a4d3d9",
   "metadata": {},
   "source": [
    "# Data ingestion\n",
    "\n",
    "### Pandas"
   ]
  },
  {
   "cell_type": "code",
   "execution_count": 1,
   "id": "573feb88",
   "metadata": {},
   "outputs": [
    {
     "data": {
      "text/html": [
       "<div>\n",
       "<style scoped>\n",
       "    .dataframe tbody tr th:only-of-type {\n",
       "        vertical-align: middle;\n",
       "    }\n",
       "\n",
       "    .dataframe tbody tr th {\n",
       "        vertical-align: top;\n",
       "    }\n",
       "\n",
       "    .dataframe thead th {\n",
       "        text-align: right;\n",
       "    }\n",
       "</style>\n",
       "<table border=\"1\" class=\"dataframe\">\n",
       "  <thead>\n",
       "    <tr style=\"text-align: right;\">\n",
       "      <th></th>\n",
       "      <th>symbol</th>\n",
       "      <th>price</th>\n",
       "    </tr>\n",
       "    <tr>\n",
       "      <th>timestamp</th>\n",
       "      <th></th>\n",
       "      <th></th>\n",
       "    </tr>\n",
       "  </thead>\n",
       "  <tbody>\n",
       "    <tr>\n",
       "      <th>2025-10-01 09:30:00</th>\n",
       "      <td>AAPL</td>\n",
       "      <td>169.89</td>\n",
       "    </tr>\n",
       "    <tr>\n",
       "      <th>2025-10-01 09:30:00</th>\n",
       "      <td>MSFT</td>\n",
       "      <td>320.22</td>\n",
       "    </tr>\n",
       "    <tr>\n",
       "      <th>2025-10-01 09:30:00</th>\n",
       "      <td>SPY</td>\n",
       "      <td>430.06</td>\n",
       "    </tr>\n",
       "    <tr>\n",
       "      <th>2025-10-01 09:30:01</th>\n",
       "      <td>AAPL</td>\n",
       "      <td>169.41</td>\n",
       "    </tr>\n",
       "    <tr>\n",
       "      <th>2025-10-01 09:30:01</th>\n",
       "      <td>MSFT</td>\n",
       "      <td>319.76</td>\n",
       "    </tr>\n",
       "    <tr>\n",
       "      <th>...</th>\n",
       "      <td>...</td>\n",
       "      <td>...</td>\n",
       "    </tr>\n",
       "    <tr>\n",
       "      <th>2025-10-02 13:16:38</th>\n",
       "      <td>MSFT</td>\n",
       "      <td>321.47</td>\n",
       "    </tr>\n",
       "    <tr>\n",
       "      <th>2025-10-02 13:16:38</th>\n",
       "      <td>SPY</td>\n",
       "      <td>539.68</td>\n",
       "    </tr>\n",
       "    <tr>\n",
       "      <th>2025-10-02 13:16:39</th>\n",
       "      <td>AAPL</td>\n",
       "      <td>92.07</td>\n",
       "    </tr>\n",
       "    <tr>\n",
       "      <th>2025-10-02 13:16:39</th>\n",
       "      <td>MSFT</td>\n",
       "      <td>321.53</td>\n",
       "    </tr>\n",
       "    <tr>\n",
       "      <th>2025-10-02 13:16:39</th>\n",
       "      <td>SPY</td>\n",
       "      <td>539.19</td>\n",
       "    </tr>\n",
       "  </tbody>\n",
       "</table>\n",
       "<p>300000 rows × 2 columns</p>\n",
       "</div>"
      ],
      "text/plain": [
       "                    symbol   price\n",
       "timestamp                         \n",
       "2025-10-01 09:30:00   AAPL  169.89\n",
       "2025-10-01 09:30:00   MSFT  320.22\n",
       "2025-10-01 09:30:00    SPY  430.06\n",
       "2025-10-01 09:30:01   AAPL  169.41\n",
       "2025-10-01 09:30:01   MSFT  319.76\n",
       "...                    ...     ...\n",
       "2025-10-02 13:16:38   MSFT  321.47\n",
       "2025-10-02 13:16:38    SPY  539.68\n",
       "2025-10-02 13:16:39   AAPL   92.07\n",
       "2025-10-02 13:16:39   MSFT  321.53\n",
       "2025-10-02 13:16:39    SPY  539.19\n",
       "\n",
       "[300000 rows x 2 columns]"
      ]
     },
     "execution_count": 1,
     "metadata": {},
     "output_type": "execute_result"
    }
   ],
   "source": [
    "import pandas as pd\n",
    "\n",
    "def data_ingestion_pandas(file_path: str = 'inputs/market_data-1.csv'):\n",
    "\n",
    "    df = pd.read_csv(file_path, parse_dates=['timestamp'])\n",
    "    df.set_index('timestamp', inplace=True)\n",
    "    df.index = df.index.astype('datetime64[us]')\n",
    "    return df\n",
    "\n",
    "df_pandas = data_ingestion_pandas()\n",
    "df_pandas\n"
   ]
  },
  {
   "cell_type": "markdown",
   "id": "a717a1fe",
   "metadata": {},
   "source": [
    "### Polars"
   ]
  },
  {
   "cell_type": "code",
   "execution_count": 2,
   "id": "e2f6945a",
   "metadata": {},
   "outputs": [
    {
     "data": {
      "text/html": [
       "<div><style>\n",
       ".dataframe > thead > tr,\n",
       ".dataframe > tbody > tr {\n",
       "  text-align: right;\n",
       "  white-space: pre-wrap;\n",
       "}\n",
       "</style>\n",
       "<small>shape: (300_000, 3)</small><table border=\"1\" class=\"dataframe\"><thead><tr><th>timestamp</th><th>symbol</th><th>price</th></tr><tr><td>datetime[μs]</td><td>str</td><td>f64</td></tr></thead><tbody><tr><td>2025-10-01 09:30:00</td><td>&quot;AAPL&quot;</td><td>169.89</td></tr><tr><td>2025-10-01 09:30:00</td><td>&quot;MSFT&quot;</td><td>320.22</td></tr><tr><td>2025-10-01 09:30:00</td><td>&quot;SPY&quot;</td><td>430.06</td></tr><tr><td>2025-10-01 09:30:01</td><td>&quot;AAPL&quot;</td><td>169.41</td></tr><tr><td>2025-10-01 09:30:01</td><td>&quot;MSFT&quot;</td><td>319.76</td></tr><tr><td>&hellip;</td><td>&hellip;</td><td>&hellip;</td></tr><tr><td>2025-10-02 13:16:38</td><td>&quot;MSFT&quot;</td><td>321.47</td></tr><tr><td>2025-10-02 13:16:38</td><td>&quot;SPY&quot;</td><td>539.68</td></tr><tr><td>2025-10-02 13:16:39</td><td>&quot;AAPL&quot;</td><td>92.07</td></tr><tr><td>2025-10-02 13:16:39</td><td>&quot;MSFT&quot;</td><td>321.53</td></tr><tr><td>2025-10-02 13:16:39</td><td>&quot;SPY&quot;</td><td>539.19</td></tr></tbody></table></div>"
      ],
      "text/plain": [
       "shape: (300_000, 3)\n",
       "┌─────────────────────┬────────┬────────┐\n",
       "│ timestamp           ┆ symbol ┆ price  │\n",
       "│ ---                 ┆ ---    ┆ ---    │\n",
       "│ datetime[μs]        ┆ str    ┆ f64    │\n",
       "╞═════════════════════╪════════╪════════╡\n",
       "│ 2025-10-01 09:30:00 ┆ AAPL   ┆ 169.89 │\n",
       "│ 2025-10-01 09:30:00 ┆ MSFT   ┆ 320.22 │\n",
       "│ 2025-10-01 09:30:00 ┆ SPY    ┆ 430.06 │\n",
       "│ 2025-10-01 09:30:01 ┆ AAPL   ┆ 169.41 │\n",
       "│ 2025-10-01 09:30:01 ┆ MSFT   ┆ 319.76 │\n",
       "│ …                   ┆ …      ┆ …      │\n",
       "│ 2025-10-02 13:16:38 ┆ MSFT   ┆ 321.47 │\n",
       "│ 2025-10-02 13:16:38 ┆ SPY    ┆ 539.68 │\n",
       "│ 2025-10-02 13:16:39 ┆ AAPL   ┆ 92.07  │\n",
       "│ 2025-10-02 13:16:39 ┆ MSFT   ┆ 321.53 │\n",
       "│ 2025-10-02 13:16:39 ┆ SPY    ┆ 539.19 │\n",
       "└─────────────────────┴────────┴────────┘"
      ]
     },
     "execution_count": 2,
     "metadata": {},
     "output_type": "execute_result"
    }
   ],
   "source": [
    "import polars as pl\n",
    "\n",
    "def data_ingestion_polars(file_path: str = 'inputs/market_data-1.csv'):\n",
    "\n",
    "    df = pl.read_csv(file_path, try_parse_dates=True)\n",
    "    return df\n",
    "\n",
    "df_polars = data_ingestion_polars()\n",
    "df_polars"
   ]
  },
  {
   "cell_type": "markdown",
   "id": "80a4c8f6",
   "metadata": {},
   "source": [
    "### Check"
   ]
  },
  {
   "cell_type": "code",
   "execution_count": 3,
   "id": "ab122e07",
   "metadata": {},
   "outputs": [
    {
     "data": {
      "text/plain": [
       "True"
      ]
     },
     "execution_count": 3,
     "metadata": {},
     "output_type": "execute_result"
    }
   ],
   "source": [
    "df_pandas.equals(df_polars.to_pandas().set_index('timestamp'))"
   ]
  },
  {
   "cell_type": "markdown",
   "id": "611edebf",
   "metadata": {},
   "source": [
    "### Timing"
   ]
  },
  {
   "cell_type": "code",
   "execution_count": 4,
   "id": "3693101e",
   "metadata": {},
   "outputs": [
    {
     "name": "stdout",
     "output_type": "stream",
     "text": [
      "Pandas ingestion time: 0.285458 seconds\n",
      "Polars ingestion time: 0.020557 seconds\n"
     ]
    }
   ],
   "source": [
    "import time\n",
    "\n",
    "# Time pandas ingestion\n",
    "start_pandas = time.time()\n",
    "_ = data_ingestion_pandas()\n",
    "end_pandas = time.time()\n",
    "pandas_time = end_pandas - start_pandas\n",
    "\n",
    "# Time polars ingestion\n",
    "start_polars = time.time()\n",
    "_ = data_ingestion_polars()\n",
    "end_polars = time.time()\n",
    "polars_time = end_polars - start_polars\n",
    "\n",
    "print(f\"Pandas ingestion time: {pandas_time:.6f} seconds\")\n",
    "print(f\"Polars ingestion time: {polars_time:.6f} seconds\")\n"
   ]
  },
  {
   "cell_type": "markdown",
   "id": "1751e835",
   "metadata": {},
   "source": [
    "### Memory"
   ]
  },
  {
   "cell_type": "code",
   "execution_count": 5,
   "id": "0cead4d2",
   "metadata": {},
   "outputs": [
    {
     "name": "stdout",
     "output_type": "stream",
     "text": [
      "Pandas memory usage: 19.65 MB\n",
      "Polars memory usage (converted to pandas): 19.65 MB\n"
     ]
    }
   ],
   "source": [
    "import sys\n",
    "\n",
    "# Memory usage for pandas ingestion\n",
    "df_pandas_mem = df_pandas.memory_usage(deep=True).sum() / (1024 ** 2)  # In MB\n",
    "\n",
    "# Memory usage for polars ingestion (via conversion to pandas, as polars doesn't give exact memory per df easily)\n",
    "df_polars_mem = df_polars.to_pandas().memory_usage(deep=True).sum() / (1024 ** 2)  # In MB\n",
    "\n",
    "print(f\"Pandas memory usage: {df_pandas_mem:.2f} MB\")\n",
    "print(f\"Polars memory usage (converted to pandas): {df_polars_mem:.2f} MB\")\n"
   ]
  },
  {
   "cell_type": "markdown",
   "id": "9bbc4e2d",
   "metadata": {},
   "source": [
    "# Rolling metrics"
   ]
  },
  {
   "cell_type": "code",
   "execution_count": 6,
   "id": "d9562be5",
   "metadata": {},
   "outputs": [
    {
     "data": {
      "text/plain": [
       "timestamp\n",
       "2025-10-01 09:30:00         NaN\n",
       "2025-10-01 09:30:00         NaN\n",
       "2025-10-01 09:30:00         NaN\n",
       "2025-10-01 09:30:01         NaN\n",
       "2025-10-01 09:30:01         NaN\n",
       "                         ...   \n",
       "2025-10-02 13:16:38    306.4500\n",
       "2025-10-02 13:16:38    328.8885\n",
       "2025-10-02 13:16:39    317.3715\n",
       "2025-10-02 13:16:39    306.5225\n",
       "2025-10-02 13:16:39    328.9125\n",
       "Name: price, Length: 300000, dtype: float64"
      ]
     },
     "execution_count": 6,
     "metadata": {},
     "output_type": "execute_result"
    }
   ],
   "source": [
    "df_pandas['price'].rolling(window=20).mean()"
   ]
  },
  {
   "cell_type": "code",
   "execution_count": 17,
   "id": "afc71e02",
   "metadata": {},
   "outputs": [
    {
     "data": {
      "text/html": [
       "<div>\n",
       "<style scoped>\n",
       "    .dataframe tbody tr th:only-of-type {\n",
       "        vertical-align: middle;\n",
       "    }\n",
       "\n",
       "    .dataframe tbody tr th {\n",
       "        vertical-align: top;\n",
       "    }\n",
       "\n",
       "    .dataframe thead th {\n",
       "        text-align: right;\n",
       "    }\n",
       "</style>\n",
       "<table border=\"1\" class=\"dataframe\">\n",
       "  <thead>\n",
       "    <tr style=\"text-align: right;\">\n",
       "      <th></th>\n",
       "      <th>mean_AAPL</th>\n",
       "      <th>std_AAPL</th>\n",
       "      <th>sharpe_AAPL</th>\n",
       "      <th>mean_MSFT</th>\n",
       "      <th>std_MSFT</th>\n",
       "      <th>sharpe_MSFT</th>\n",
       "      <th>mean_SPY</th>\n",
       "      <th>std_SPY</th>\n",
       "      <th>sharpe_SPY</th>\n",
       "    </tr>\n",
       "  </thead>\n",
       "  <tbody>\n",
       "    <tr>\n",
       "      <th>2025-10-01 09:30:00</th>\n",
       "      <td>NaN</td>\n",
       "      <td>NaN</td>\n",
       "      <td>NaN</td>\n",
       "      <td>NaN</td>\n",
       "      <td>NaN</td>\n",
       "      <td>NaN</td>\n",
       "      <td>NaN</td>\n",
       "      <td>NaN</td>\n",
       "      <td>NaN</td>\n",
       "    </tr>\n",
       "    <tr>\n",
       "      <th>2025-10-01 09:30:01</th>\n",
       "      <td>NaN</td>\n",
       "      <td>NaN</td>\n",
       "      <td>NaN</td>\n",
       "      <td>NaN</td>\n",
       "      <td>NaN</td>\n",
       "      <td>NaN</td>\n",
       "      <td>NaN</td>\n",
       "      <td>NaN</td>\n",
       "      <td>NaN</td>\n",
       "    </tr>\n",
       "    <tr>\n",
       "      <th>2025-10-01 09:30:02</th>\n",
       "      <td>NaN</td>\n",
       "      <td>NaN</td>\n",
       "      <td>NaN</td>\n",
       "      <td>NaN</td>\n",
       "      <td>NaN</td>\n",
       "      <td>NaN</td>\n",
       "      <td>NaN</td>\n",
       "      <td>NaN</td>\n",
       "      <td>NaN</td>\n",
       "    </tr>\n",
       "    <tr>\n",
       "      <th>2025-10-01 09:30:03</th>\n",
       "      <td>NaN</td>\n",
       "      <td>NaN</td>\n",
       "      <td>NaN</td>\n",
       "      <td>NaN</td>\n",
       "      <td>NaN</td>\n",
       "      <td>NaN</td>\n",
       "      <td>NaN</td>\n",
       "      <td>NaN</td>\n",
       "      <td>NaN</td>\n",
       "    </tr>\n",
       "    <tr>\n",
       "      <th>2025-10-01 09:30:04</th>\n",
       "      <td>NaN</td>\n",
       "      <td>NaN</td>\n",
       "      <td>NaN</td>\n",
       "      <td>NaN</td>\n",
       "      <td>NaN</td>\n",
       "      <td>NaN</td>\n",
       "      <td>NaN</td>\n",
       "      <td>NaN</td>\n",
       "      <td>NaN</td>\n",
       "    </tr>\n",
       "    <tr>\n",
       "      <th>...</th>\n",
       "      <td>...</td>\n",
       "      <td>...</td>\n",
       "      <td>...</td>\n",
       "      <td>...</td>\n",
       "      <td>...</td>\n",
       "      <td>...</td>\n",
       "      <td>...</td>\n",
       "      <td>...</td>\n",
       "      <td>...</td>\n",
       "    </tr>\n",
       "    <tr>\n",
       "      <th>2025-10-02 13:16:35</th>\n",
       "      <td>90.6525</td>\n",
       "      <td>0.459964</td>\n",
       "      <td>197.085972</td>\n",
       "      <td>323.5530</td>\n",
       "      <td>0.839023</td>\n",
       "      <td>385.630845</td>\n",
       "      <td>537.8915</td>\n",
       "      <td>0.679119</td>\n",
       "      <td>792.042834</td>\n",
       "    </tr>\n",
       "    <tr>\n",
       "      <th>2025-10-02 13:16:36</th>\n",
       "      <td>90.6750</td>\n",
       "      <td>0.495713</td>\n",
       "      <td>182.918267</td>\n",
       "      <td>323.4230</td>\n",
       "      <td>0.833787</td>\n",
       "      <td>387.896348</td>\n",
       "      <td>538.0010</td>\n",
       "      <td>0.731220</td>\n",
       "      <td>735.757725</td>\n",
       "    </tr>\n",
       "    <tr>\n",
       "      <th>2025-10-02 13:16:37</th>\n",
       "      <td>90.6950</td>\n",
       "      <td>0.523596</td>\n",
       "      <td>173.215653</td>\n",
       "      <td>323.2795</td>\n",
       "      <td>0.866873</td>\n",
       "      <td>372.926182</td>\n",
       "      <td>538.1060</td>\n",
       "      <td>0.784665</td>\n",
       "      <td>685.778126</td>\n",
       "    </tr>\n",
       "    <tr>\n",
       "      <th>2025-10-02 13:16:38</th>\n",
       "      <td>90.7395</td>\n",
       "      <td>0.564721</td>\n",
       "      <td>160.680115</td>\n",
       "      <td>323.1150</td>\n",
       "      <td>0.883149</td>\n",
       "      <td>365.866803</td>\n",
       "      <td>538.2340</td>\n",
       "      <td>0.823212</td>\n",
       "      <td>653.821908</td>\n",
       "    </tr>\n",
       "    <tr>\n",
       "      <th>2025-10-02 13:16:39</th>\n",
       "      <td>90.8185</td>\n",
       "      <td>0.634220</td>\n",
       "      <td>143.197251</td>\n",
       "      <td>322.9635</td>\n",
       "      <td>0.882110</td>\n",
       "      <td>366.125958</td>\n",
       "      <td>538.3585</td>\n",
       "      <td>0.765254</td>\n",
       "      <td>703.503178</td>\n",
       "    </tr>\n",
       "  </tbody>\n",
       "</table>\n",
       "<p>100000 rows × 9 columns</p>\n",
       "</div>"
      ],
      "text/plain": [
       "                     mean_AAPL  std_AAPL  sharpe_AAPL  mean_MSFT  std_MSFT  \\\n",
       "2025-10-01 09:30:00        NaN       NaN          NaN        NaN       NaN   \n",
       "2025-10-01 09:30:01        NaN       NaN          NaN        NaN       NaN   \n",
       "2025-10-01 09:30:02        NaN       NaN          NaN        NaN       NaN   \n",
       "2025-10-01 09:30:03        NaN       NaN          NaN        NaN       NaN   \n",
       "2025-10-01 09:30:04        NaN       NaN          NaN        NaN       NaN   \n",
       "...                        ...       ...          ...        ...       ...   \n",
       "2025-10-02 13:16:35    90.6525  0.459964   197.085972   323.5530  0.839023   \n",
       "2025-10-02 13:16:36    90.6750  0.495713   182.918267   323.4230  0.833787   \n",
       "2025-10-02 13:16:37    90.6950  0.523596   173.215653   323.2795  0.866873   \n",
       "2025-10-02 13:16:38    90.7395  0.564721   160.680115   323.1150  0.883149   \n",
       "2025-10-02 13:16:39    90.8185  0.634220   143.197251   322.9635  0.882110   \n",
       "\n",
       "                     sharpe_MSFT  mean_SPY   std_SPY  sharpe_SPY  \n",
       "2025-10-01 09:30:00          NaN       NaN       NaN         NaN  \n",
       "2025-10-01 09:30:01          NaN       NaN       NaN         NaN  \n",
       "2025-10-01 09:30:02          NaN       NaN       NaN         NaN  \n",
       "2025-10-01 09:30:03          NaN       NaN       NaN         NaN  \n",
       "2025-10-01 09:30:04          NaN       NaN       NaN         NaN  \n",
       "...                          ...       ...       ...         ...  \n",
       "2025-10-02 13:16:35   385.630845  537.8915  0.679119  792.042834  \n",
       "2025-10-02 13:16:36   387.896348  538.0010  0.731220  735.757725  \n",
       "2025-10-02 13:16:37   372.926182  538.1060  0.784665  685.778126  \n",
       "2025-10-02 13:16:38   365.866803  538.2340  0.823212  653.821908  \n",
       "2025-10-02 13:16:39   366.125958  538.3585  0.765254  703.503178  \n",
       "\n",
       "[100000 rows x 9 columns]"
      ]
     },
     "execution_count": 17,
     "metadata": {},
     "output_type": "execute_result"
    }
   ],
   "source": [
    "def compute_rolling_metrics_pandas(df_pandas):\n",
    "\n",
    "    df_pandas_metrics = pd.DataFrame()\n",
    "\n",
    "    for symbol in df_pandas['symbol'].unique():\n",
    "\n",
    "        df_pandas_symbol = df_pandas[df_pandas['symbol'] == symbol]\n",
    "\n",
    "        df_mean = df_pandas_symbol['price'].rolling(window=20).mean()\n",
    "        df_mean.name = f\"mean_{symbol}\"\n",
    "        df_pandas_metrics = pd.concat([df_pandas_metrics, df_mean], axis=1)\n",
    "\n",
    "        df_std = df_pandas_symbol['price'].rolling(window=20).std()\n",
    "        df_std.name = f\"std_{symbol}\"   \n",
    "        df_pandas_metrics = pd.concat([df_pandas_metrics, df_std], axis=1)\n",
    "        \n",
    "        df_sharpe = df_mean / df_std\n",
    "        df_sharpe.name = f\"sharpe_{symbol}\"\n",
    "        df_pandas_metrics = pd.concat([df_pandas_metrics, df_sharpe], axis=1)\n",
    "\n",
    "    return df_pandas_metrics\n",
    "\n",
    "df_pandas_metrics = compute_rolling_metrics_pandas(df_pandas)\n",
    "df_pandas_metrics\n"
   ]
  },
  {
   "cell_type": "code",
   "execution_count": 13,
   "id": "3cf04790",
   "metadata": {},
   "outputs": [
    {
     "name": "stderr",
     "output_type": "stream",
     "text": [
      "/var/folders/ty/5gy6m3k52ps97ms9_x3glvnh0000gn/T/ipykernel_30156/3107494682.py:17: DeprecationWarning: the argument `columns` for `DataFrame.pivot` is deprecated. It was renamed to `on` in version 1.0.0.\n",
      "  df_polars_metrics_pivoted = df_polars_metrics.pivot(\n"
     ]
    },
    {
     "data": {
      "text/html": [
       "<div><style>\n",
       ".dataframe > thead > tr,\n",
       ".dataframe > tbody > tr {\n",
       "  text-align: right;\n",
       "  white-space: pre-wrap;\n",
       "}\n",
       "</style>\n",
       "<small>shape: (100_000, 10)</small><table border=\"1\" class=\"dataframe\"><thead><tr><th>timestamp</th><th>mean_AAPL</th><th>std_AAPL</th><th>sharpe_AAPL</th><th>mean_MSFT</th><th>std_MSFT</th><th>sharpe_MSFT</th><th>mean_SPY</th><th>std_SPY</th><th>sharpe_SPY</th></tr><tr><td>datetime[μs]</td><td>f64</td><td>f64</td><td>f64</td><td>f64</td><td>f64</td><td>f64</td><td>f64</td><td>f64</td><td>f64</td></tr></thead><tbody><tr><td>2025-10-01 09:30:00</td><td>null</td><td>null</td><td>null</td><td>null</td><td>null</td><td>null</td><td>null</td><td>null</td><td>null</td></tr><tr><td>2025-10-01 09:30:01</td><td>null</td><td>null</td><td>null</td><td>null</td><td>null</td><td>null</td><td>null</td><td>null</td><td>null</td></tr><tr><td>2025-10-01 09:30:02</td><td>null</td><td>null</td><td>null</td><td>null</td><td>null</td><td>null</td><td>null</td><td>null</td><td>null</td></tr><tr><td>2025-10-01 09:30:03</td><td>null</td><td>null</td><td>null</td><td>null</td><td>null</td><td>null</td><td>null</td><td>null</td><td>null</td></tr><tr><td>2025-10-01 09:30:04</td><td>null</td><td>null</td><td>null</td><td>null</td><td>null</td><td>null</td><td>null</td><td>null</td><td>null</td></tr><tr><td>&hellip;</td><td>&hellip;</td><td>&hellip;</td><td>&hellip;</td><td>&hellip;</td><td>&hellip;</td><td>&hellip;</td><td>&hellip;</td><td>&hellip;</td><td>&hellip;</td></tr><tr><td>2025-10-02 13:16:35</td><td>90.6525</td><td>0.459964</td><td>197.085972</td><td>323.553</td><td>0.839023</td><td>385.630845</td><td>537.8915</td><td>0.679119</td><td>792.042834</td></tr><tr><td>2025-10-02 13:16:36</td><td>90.675</td><td>0.495713</td><td>182.918267</td><td>323.423</td><td>0.833787</td><td>387.896348</td><td>538.001</td><td>0.73122</td><td>735.757725</td></tr><tr><td>2025-10-02 13:16:37</td><td>90.695</td><td>0.523596</td><td>173.215653</td><td>323.2795</td><td>0.866873</td><td>372.926182</td><td>538.106</td><td>0.784665</td><td>685.778126</td></tr><tr><td>2025-10-02 13:16:38</td><td>90.7395</td><td>0.564721</td><td>160.680115</td><td>323.115</td><td>0.883149</td><td>365.866803</td><td>538.234</td><td>0.823212</td><td>653.821908</td></tr><tr><td>2025-10-02 13:16:39</td><td>90.8185</td><td>0.63422</td><td>143.197251</td><td>322.9635</td><td>0.88211</td><td>366.125958</td><td>538.3585</td><td>0.765254</td><td>703.503178</td></tr></tbody></table></div>"
      ],
      "text/plain": [
       "shape: (100_000, 10)\n",
       "┌────────────┬───────────┬──────────┬────────────┬───┬───────────┬──────────┬──────────┬───────────┐\n",
       "│ timestamp  ┆ mean_AAPL ┆ std_AAPL ┆ sharpe_AAP ┆ … ┆ sharpe_MS ┆ mean_SPY ┆ std_SPY  ┆ sharpe_SP │\n",
       "│ ---        ┆ ---       ┆ ---      ┆ L          ┆   ┆ FT        ┆ ---      ┆ ---      ┆ Y         │\n",
       "│ datetime[μ ┆ f64       ┆ f64      ┆ ---        ┆   ┆ ---       ┆ f64      ┆ f64      ┆ ---       │\n",
       "│ s]         ┆           ┆          ┆ f64        ┆   ┆ f64       ┆          ┆          ┆ f64       │\n",
       "╞════════════╪═══════════╪══════════╪════════════╪═══╪═══════════╪══════════╪══════════╪═══════════╡\n",
       "│ 2025-10-01 ┆ null      ┆ null     ┆ null       ┆ … ┆ null      ┆ null     ┆ null     ┆ null      │\n",
       "│ 09:30:00   ┆           ┆          ┆            ┆   ┆           ┆          ┆          ┆           │\n",
       "│ 2025-10-01 ┆ null      ┆ null     ┆ null       ┆ … ┆ null      ┆ null     ┆ null     ┆ null      │\n",
       "│ 09:30:01   ┆           ┆          ┆            ┆   ┆           ┆          ┆          ┆           │\n",
       "│ 2025-10-01 ┆ null      ┆ null     ┆ null       ┆ … ┆ null      ┆ null     ┆ null     ┆ null      │\n",
       "│ 09:30:02   ┆           ┆          ┆            ┆   ┆           ┆          ┆          ┆           │\n",
       "│ 2025-10-01 ┆ null      ┆ null     ┆ null       ┆ … ┆ null      ┆ null     ┆ null     ┆ null      │\n",
       "│ 09:30:03   ┆           ┆          ┆            ┆   ┆           ┆          ┆          ┆           │\n",
       "│ 2025-10-01 ┆ null      ┆ null     ┆ null       ┆ … ┆ null      ┆ null     ┆ null     ┆ null      │\n",
       "│ 09:30:04   ┆           ┆          ┆            ┆   ┆           ┆          ┆          ┆           │\n",
       "│ …          ┆ …         ┆ …        ┆ …          ┆ … ┆ …         ┆ …        ┆ …        ┆ …         │\n",
       "│ 2025-10-02 ┆ 90.6525   ┆ 0.459964 ┆ 197.085972 ┆ … ┆ 385.63084 ┆ 537.8915 ┆ 0.679119 ┆ 792.04283 │\n",
       "│ 13:16:35   ┆           ┆          ┆            ┆   ┆ 5         ┆          ┆          ┆ 4         │\n",
       "│ 2025-10-02 ┆ 90.675    ┆ 0.495713 ┆ 182.918267 ┆ … ┆ 387.89634 ┆ 538.001  ┆ 0.73122  ┆ 735.75772 │\n",
       "│ 13:16:36   ┆           ┆          ┆            ┆   ┆ 8         ┆          ┆          ┆ 5         │\n",
       "│ 2025-10-02 ┆ 90.695    ┆ 0.523596 ┆ 173.215653 ┆ … ┆ 372.92618 ┆ 538.106  ┆ 0.784665 ┆ 685.77812 │\n",
       "│ 13:16:37   ┆           ┆          ┆            ┆   ┆ 2         ┆          ┆          ┆ 6         │\n",
       "│ 2025-10-02 ┆ 90.7395   ┆ 0.564721 ┆ 160.680115 ┆ … ┆ 365.86680 ┆ 538.234  ┆ 0.823212 ┆ 653.82190 │\n",
       "│ 13:16:38   ┆           ┆          ┆            ┆   ┆ 3         ┆          ┆          ┆ 8         │\n",
       "│ 2025-10-02 ┆ 90.8185   ┆ 0.63422  ┆ 143.197251 ┆ … ┆ 366.12595 ┆ 538.3585 ┆ 0.765254 ┆ 703.50317 │\n",
       "│ 13:16:39   ┆           ┆          ┆            ┆   ┆ 8         ┆          ┆          ┆ 8         │\n",
       "└────────────┴───────────┴──────────┴────────────┴───┴───────────┴──────────┴──────────┴───────────┘"
      ]
     },
     "execution_count": 13,
     "metadata": {},
     "output_type": "execute_result"
    }
   ],
   "source": [
    "def compute_rolling_metrics_polars(df_polars):\n",
    "\n",
    "    # Compute rolling mean, std, and sharpe by symbol in Polars\n",
    "    rolling_window = 20\n",
    "    # Calculate rolling metrics for each symbol separately\n",
    "    df_polars_metrics = df_polars.with_columns([\n",
    "        pl.col(\"price\").rolling_mean(rolling_window).over(\"symbol\").alias(\"rolling_mean\"),\n",
    "        pl.col(\"price\").rolling_std(rolling_window).over(\"symbol\").alias(\"rolling_std\"),\n",
    "    ])\n",
    "\n",
    "    # Calculate sharpe ratio\n",
    "    df_polars_metrics = df_polars_metrics.with_columns([\n",
    "        (pl.col(\"rolling_mean\") / pl.col(\"rolling_std\")).alias(\"rolling_sharpe\")\n",
    "    ])\n",
    "\n",
    "    # Pivot to get separate columns for each symbol\n",
    "    df_polars_metrics_pivoted = df_polars_metrics.pivot(\n",
    "        index=\"timestamp\",\n",
    "        columns=\"symbol\", \n",
    "        values=[\"rolling_mean\", \"rolling_std\", \"rolling_sharpe\"],\n",
    "        aggregate_function=\"first\"\n",
    "    )\n",
    "\n",
    "    # Rename columns to match the pandas output format\n",
    "    df_polars_metrics_final = df_polars_metrics_pivoted.select([\n",
    "        \"timestamp\",\n",
    "        pl.col(\"rolling_mean_AAPL\").alias(\"mean_AAPL\"),\n",
    "        pl.col(\"rolling_std_AAPL\").alias(\"std_AAPL\"), \n",
    "        pl.col(\"rolling_sharpe_AAPL\").alias(\"sharpe_AAPL\"),\n",
    "        pl.col(\"rolling_mean_MSFT\").alias(\"mean_MSFT\"),\n",
    "        pl.col(\"rolling_std_MSFT\").alias(\"std_MSFT\"),\n",
    "        pl.col(\"rolling_sharpe_MSFT\").alias(\"sharpe_MSFT\"),\n",
    "        pl.col(\"rolling_mean_SPY\").alias(\"mean_SPY\"),\n",
    "        pl.col(\"rolling_std_SPY\").alias(\"std_SPY\"),\n",
    "        pl.col(\"rolling_sharpe_SPY\").alias(\"sharpe_SPY\"),\n",
    "    ])\n",
    "\n",
    "    return df_polars_metrics_final\n",
    "\n",
    "df_polars_metrics = compute_rolling_metrics_polars(df_polars)\n",
    "df_polars_metrics"
   ]
  },
  {
   "cell_type": "markdown",
   "id": "320221ff",
   "metadata": {},
   "source": [
    "### Timing"
   ]
  },
  {
   "cell_type": "code",
   "execution_count": 10,
   "id": "f3c28544",
   "metadata": {},
   "outputs": [
    {
     "name": "stdout",
     "output_type": "stream",
     "text": [
      "Pandas rolling metrics time: 3.505908 seconds\n",
      "Polars rolling metrics time: 0.072770 seconds\n"
     ]
    },
    {
     "name": "stderr",
     "output_type": "stream",
     "text": [
      "/var/folders/ty/5gy6m3k52ps97ms9_x3glvnh0000gn/T/ipykernel_30156/3219909177.py:17: DeprecationWarning: the argument `columns` for `DataFrame.pivot` is deprecated. It was renamed to `on` in version 1.0.0.\n",
      "  df_polars_metrics_pivoted = df_polars_metrics.pivot(\n"
     ]
    }
   ],
   "source": [
    "import time\n",
    "\n",
    "# Time pandas ingestion\n",
    "start_pandas = time.time()\n",
    "_ = compute_rolling_metrics_pandas(df_pandas)\n",
    "end_pandas = time.time()\n",
    "pandas_time = end_pandas - start_pandas\n",
    "\n",
    "# Time polars ingestion\n",
    "start_polars = time.time()\n",
    "_ = compute_rolling_metrics_polars(df_polars)\n",
    "end_polars = time.time()\n",
    "polars_time = end_polars - start_polars\n",
    "\n",
    "print(f\"Pandas rolling metrics time: {pandas_time:.6f} seconds\")\n",
    "print(f\"Polars rolling metrics time: {polars_time:.6f} seconds\")\n"
   ]
  },
  {
   "cell_type": "markdown",
   "id": "1dedfcc4",
   "metadata": {},
   "source": [
    "### Visualization"
   ]
  },
  {
   "cell_type": "code",
   "execution_count": 33,
   "id": "cd7f3c84",
   "metadata": {},
   "outputs": [
    {
     "data": {
      "image/png": "[encoded data removed]",
      "text/plain": [
       "<Figure size 1200x600 with 1 Axes>"
      ]
     },
     "metadata": {},
     "output_type": "display_data"
    }
   ],
   "source": [
    "import matplotlib.pyplot as plt\n",
    "\n",
    "plt.figure(figsize=(12, 6))\n",
    "\n",
    "# Filter data between 9:30 and 10:30 (assuming same day)\n",
    "start_time = df_pandas_metrics.index[0].replace(hour=9, minute=30, second=0)\n",
    "end_time = df_pandas_metrics.index[0].replace(hour=9, minute=45, second=0)\n",
    "\n",
    "# Plot rolling mean of AAPL (from metrics DataFrame, indexed by timestamp)\n",
    "mask_metrics = (df_pandas_metrics.index >= start_time) & (df_pandas_metrics.index <= end_time)\n",
    "plt.plot(df_pandas_metrics.index[mask_metrics], df_pandas_metrics['mean_AAPL'][mask_metrics], label='Rolling Mean (AAPL)', color='blue')\n",
    "\n",
    "# Plot individual AAPL prices from the original DataFrame, for symbol == \"AAPL\"\n",
    "aapl_mask = df_pandas['symbol'] == 'AAPL'\n",
    "mask_aapl_time = (df_pandas[aapl_mask].index >= start_time) & (df_pandas[aapl_mask].index <= end_time)\n",
    "plt.plot(df_pandas[aapl_mask][mask_aapl_time].index, df_pandas[aapl_mask][mask_aapl_time]['price'], label='AAPL price', color='orange', alpha=0.5)\n",
    "\n",
    "plt.title('AAPL Rolling Mean vs Raw Price')\n",
    "plt.xlabel('Timestamp')\n",
    "plt.ylabel('Price')\n",
    "plt.legend()\n",
    "plt.tight_layout()\n",
    "plt.show()"
   ]
  },
  {
   "cell_type": "markdown",
   "id": "655906b4",
   "metadata": {},
   "source": [
    "### Discussion\n",
    "\n",
    "Polars rolling metrics computation is much faster based on the above timing results. This is expected because Polars is optimized for parallel processing and columnar data storage, which is well-suited for the rolling metrics computation.\n",
    "\n",
    "This could also be attributed to the lack of knowledge on my part of polars therefore that part was slightly vibecoded unlike the pandas which was I am more familiar with."
   ]
  },
  {
   "cell_type": "code",
   "execution_count": null,
   "id": "e66cbeb7",
   "metadata": {},
   "outputs": [],
   "source": []
  }
 ],
 "metadata": {
  "kernelspec": {
   "display_name": ".venv",
   "language": "python",
   "name": "python3"
  },
  "language_info": {
   "codemirror_mode": {
    "name": "ipython",
    "version": 3
   },
   "file_extension": ".py",
   "mimetype": "text/x-python",
   "name": "python",
   "nbconvert_exporter": "python",
   "pygments_lexer": "ipython3",
   "version": "3.13.7"
  }
 },
 "nbformat": 4,
 "nbformat_minor": 5
}
